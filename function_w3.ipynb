{
 "cells": [
  {
   "cell_type": "code",
   "execution_count": 100,
   "metadata": {},
   "outputs": [],
   "source": [
    "import pandas as pd\n",
    "import numpy as np\n",
    "import itertools as it \n",
    "import matplotlib.pyplot as plt\n",
    "from sklearn.gaussian_process import GaussianProcessRegressor\n",
    "from ast import literal_eval"
   ]
  },
  {
   "cell_type": "markdown",
   "metadata": {},
   "source": [
    "# Guide and Ideas for Capstone Project"
   ]
  },
  {
   "cell_type": "markdown",
   "metadata": {},
   "source": [
    "We begin this guide by downloading the data:"
   ]
  },
  {
   "cell_type": "code",
   "execution_count": 101,
   "metadata": {},
   "outputs": [],
   "source": [
    "file = 8\n",
    "resultsFile = \"data/results03.csv\""
   ]
  },
  {
   "cell_type": "code",
   "execution_count": 102,
   "metadata": {},
   "outputs": [
    {
     "name": "stdout",
     "output_type": "stream",
     "text": [
      "Input= 0    [0.067737 0.079147 0.027514 0.046544 0.461641 ...\n",
      "1    [0.081284 0.094976 0.033017 0.055853 0.369313 ...\n",
      "2    [0.081284 0.094976 0.033017 0.055853 0.553969 ...\n",
      "Name: f8, dtype: object\n",
      "Output= 0    9.799602\n",
      "1    9.696555\n",
      "2    9.817107\n",
      "Name: f8_output, dtype: float64\n"
     ]
    },
    {
     "data": {
      "text/html": [
       "<div>\n",
       "<style scoped>\n",
       "    .dataframe tbody tr th:only-of-type {\n",
       "        vertical-align: middle;\n",
       "    }\n",
       "\n",
       "    .dataframe tbody tr th {\n",
       "        vertical-align: top;\n",
       "    }\n",
       "\n",
       "    .dataframe thead th {\n",
       "        text-align: right;\n",
       "    }\n",
       "</style>\n",
       "<table border=\"1\" class=\"dataframe\">\n",
       "  <thead>\n",
       "    <tr style=\"text-align: right;\">\n",
       "      <th></th>\n",
       "      <th>Unnamed: 0</th>\n",
       "      <th>timestamp</th>\n",
       "      <th>student_id</th>\n",
       "      <th>f1</th>\n",
       "      <th>f2</th>\n",
       "      <th>f3</th>\n",
       "      <th>f4</th>\n",
       "      <th>f5</th>\n",
       "      <th>f6</th>\n",
       "      <th>f7</th>\n",
       "      <th>f8</th>\n",
       "      <th>f1_output</th>\n",
       "      <th>f2_output</th>\n",
       "      <th>f3_output</th>\n",
       "      <th>f4_output</th>\n",
       "      <th>f5_output</th>\n",
       "      <th>f6_output</th>\n",
       "      <th>f7_output</th>\n",
       "      <th>f8_output</th>\n",
       "    </tr>\n",
       "  </thead>\n",
       "  <tbody>\n",
       "    <tr>\n",
       "      <th>0</th>\n",
       "      <td>24</td>\n",
       "      <td>2024-05-05 12:53:51</td>\n",
       "      <td>534</td>\n",
       "      <td>[0.877228 0.8796  ]</td>\n",
       "      <td>[0.562109 0.999999]</td>\n",
       "      <td>[0.463899 0.489275 0.408212]</td>\n",
       "      <td>[0.462212 0.386621 0.366643 0.298809]</td>\n",
       "      <td>[0.269027 0.999999 0.999999 0.999999]</td>\n",
       "      <td>[0.582549 0.123754 0.586041 0.832796 0.045121]</td>\n",
       "      <td>[0.046316 0.393338 0.197938 0.174495 0.336343 ...</td>\n",
       "      <td>[0.067737 0.079147 0.027514 0.046544 0.461641 ...</td>\n",
       "      <td>2.380231e-87</td>\n",
       "      <td>0.038342</td>\n",
       "      <td>-0.024742</td>\n",
       "      <td>-1.917274</td>\n",
       "      <td>4462.544669</td>\n",
       "      <td>-0.595724</td>\n",
       "      <td>1.286160</td>\n",
       "      <td>9.799602</td>\n",
       "    </tr>\n",
       "    <tr>\n",
       "      <th>1</th>\n",
       "      <td>45</td>\n",
       "      <td>2024-05-07 07:25:14</td>\n",
       "      <td>534</td>\n",
       "      <td>[0.877228 0.758174]</td>\n",
       "      <td>[0.843164 0.999999]</td>\n",
       "      <td>[0.509702 0.39142  0.489854]</td>\n",
       "      <td>[0.426175 0.38531  0.370372 0.358571]</td>\n",
       "      <td>[0.322832 0.999999 0.999999 0.999999]</td>\n",
       "      <td>[0.466039 0.148505 0.468833 0.666237 0.036097]</td>\n",
       "      <td>[0.046316 0.393338 0.197938 0.174495 0.360367 ...</td>\n",
       "      <td>[0.081284 0.094976 0.033017 0.055853 0.369313 ...</td>\n",
       "      <td>-1.758338e-55</td>\n",
       "      <td>-0.068606</td>\n",
       "      <td>-0.010482</td>\n",
       "      <td>0.563498</td>\n",
       "      <td>4484.415611</td>\n",
       "      <td>-0.678115</td>\n",
       "      <td>1.708912</td>\n",
       "      <td>9.696555</td>\n",
       "    </tr>\n",
       "    <tr>\n",
       "      <th>2</th>\n",
       "      <td>82</td>\n",
       "      <td>2024-05-13 06:14:44</td>\n",
       "      <td>534</td>\n",
       "      <td>[0.785666 0.5864  ]</td>\n",
       "      <td>[0.769352 0.892841]</td>\n",
       "      <td>[0.371119 0.39142  0.489854]</td>\n",
       "      <td>[0.34094  0.363106 0.444446 0.430285]</td>\n",
       "      <td>[0.387398 0.999999 0.999999 0.999999]</td>\n",
       "      <td>[0.466039 0.148505 0.703249 0.999355 0.036097]</td>\n",
       "      <td>[0.037053 0.472006 0.15835  0.139596 0.319182 ...</td>\n",
       "      <td>[0.081284 0.094976 0.033017 0.055853 0.553969 ...</td>\n",
       "      <td>-9.346589e-20</td>\n",
       "      <td>0.171941</td>\n",
       "      <td>-0.008681</td>\n",
       "      <td>0.180900</td>\n",
       "      <td>4528.747422</td>\n",
       "      <td>-0.551035</td>\n",
       "      <td>1.033901</td>\n",
       "      <td>9.817107</td>\n",
       "    </tr>\n",
       "  </tbody>\n",
       "</table>\n",
       "</div>"
      ],
      "text/plain": [
       "   Unnamed: 0            timestamp  student_id                   f1  \\\n",
       "0          24  2024-05-05 12:53:51         534  [0.877228 0.8796  ]   \n",
       "1          45  2024-05-07 07:25:14         534  [0.877228 0.758174]   \n",
       "2          82  2024-05-13 06:14:44         534  [0.785666 0.5864  ]   \n",
       "\n",
       "                    f2                            f3  \\\n",
       "0  [0.562109 0.999999]  [0.463899 0.489275 0.408212]   \n",
       "1  [0.843164 0.999999]  [0.509702 0.39142  0.489854]   \n",
       "2  [0.769352 0.892841]  [0.371119 0.39142  0.489854]   \n",
       "\n",
       "                                      f4  \\\n",
       "0  [0.462212 0.386621 0.366643 0.298809]   \n",
       "1  [0.426175 0.38531  0.370372 0.358571]   \n",
       "2  [0.34094  0.363106 0.444446 0.430285]   \n",
       "\n",
       "                                      f5  \\\n",
       "0  [0.269027 0.999999 0.999999 0.999999]   \n",
       "1  [0.322832 0.999999 0.999999 0.999999]   \n",
       "2  [0.387398 0.999999 0.999999 0.999999]   \n",
       "\n",
       "                                               f6  \\\n",
       "0  [0.582549 0.123754 0.586041 0.832796 0.045121]   \n",
       "1  [0.466039 0.148505 0.468833 0.666237 0.036097]   \n",
       "2  [0.466039 0.148505 0.703249 0.999355 0.036097]   \n",
       "\n",
       "                                                  f7  \\\n",
       "0  [0.046316 0.393338 0.197938 0.174495 0.336343 ...   \n",
       "1  [0.046316 0.393338 0.197938 0.174495 0.360367 ...   \n",
       "2  [0.037053 0.472006 0.15835  0.139596 0.319182 ...   \n",
       "\n",
       "                                                  f8     f1_output  f2_output  \\\n",
       "0  [0.067737 0.079147 0.027514 0.046544 0.461641 ...  2.380231e-87   0.038342   \n",
       "1  [0.081284 0.094976 0.033017 0.055853 0.369313 ... -1.758338e-55  -0.068606   \n",
       "2  [0.081284 0.094976 0.033017 0.055853 0.553969 ... -9.346589e-20   0.171941   \n",
       "\n",
       "   f3_output  f4_output    f5_output  f6_output  f7_output  f8_output  \n",
       "0  -0.024742  -1.917274  4462.544669  -0.595724   1.286160   9.799602  \n",
       "1  -0.010482   0.563498  4484.415611  -0.678115   1.708912   9.696555  \n",
       "2  -0.008681   0.180900  4528.747422  -0.551035   1.033901   9.817107  "
      ]
     },
     "execution_count": 102,
     "metadata": {},
     "output_type": "execute_result"
    }
   ],
   "source": [
    "inputColumnName = \"f\" + str(file)\n",
    "outputColumnName = \"f\" + str(file) + \"_output\"\n",
    "df = pd.read_csv(resultsFile)\n",
    "input = df[inputColumnName]\n",
    "output = df[outputColumnName]\n",
    "print(\"Input=\", input)\n",
    "print(\"Output=\", output)\n",
    "df.head()\n"
   ]
  },
  {
   "cell_type": "code",
   "execution_count": 103,
   "metadata": {},
   "outputs": [
    {
     "name": "stdout",
     "output_type": "stream",
     "text": [
      "Original X(shape)= (40, 8) y(shape)= (40,)\n",
      "Updated X(shape)= (43, 8) y(shape)= (43,)\n"
     ]
    }
   ],
   "source": [
    "def load_data(dim):\n",
    "    X = np.load('data/initial_data/function_' + str(dim) +'/initial_inputs.npy')\n",
    "    y = np.load('data/initial_data/function_' + str(dim) +'/initial_outputs.npy')\n",
    "    return X,y\n",
    "\n",
    "X, y = load_data(file)\n",
    "dimension = np.shape(X)[1] \n",
    "print(\"Original X(shape)=\", X.shape, \"y(shape)=\", y.shape)\n",
    "\n",
    "for item in input:\n",
    "     item_with_comma = \"[\" + item.replace(\" 0.\",\", 0.\")  + \"]\"  \n",
    "     row = np.array(literal_eval(item_with_comma))\n",
    "     X = np.append(X, np.array(row), axis=0)\n",
    "\n",
    "for item in output:\n",
    "    y = np.append(y, float(item))\n",
    "\n",
    "print(\"Updated X(shape)=\", X.shape, \"y(shape)=\", y.shape)\n"
   ]
  },
  {
   "cell_type": "code",
   "execution_count": 104,
   "metadata": {},
   "outputs": [
    {
     "data": {
      "text/plain": [
       "array([[0.60499445, 0.29221502, 0.90845275, 0.35550624, 0.20166872,\n",
       "        0.57533801, 0.31031095, 0.73428138],\n",
       "       [0.17800696, 0.56622265, 0.99486184, 0.21032501, 0.32015266,\n",
       "        0.70790879, 0.63538449, 0.10713163],\n",
       "       [0.00907698, 0.81162615, 0.52052036, 0.07568668, 0.26511183,\n",
       "        0.09165169, 0.59241515, 0.36732026],\n",
       "       [0.50602816, 0.65373012, 0.36341078, 0.17798105, 0.0937283 ,\n",
       "        0.19742533, 0.7558269 , 0.29247234],\n",
       "       [0.35990926, 0.24907568, 0.49599717, 0.70921498, 0.11498719,\n",
       "        0.28920692, 0.55729515, 0.59388173],\n",
       "       [0.77881834, 0.0034195 , 0.33798313, 0.51952778, 0.82090699,\n",
       "        0.53724669, 0.5513471 , 0.66003209],\n",
       "       [0.90864932, 0.0622497 , 0.23825955, 0.76660355, 0.13233596,\n",
       "        0.99024381, 0.68806782, 0.74249594],\n",
       "       [0.58637144, 0.88073573, 0.74502075, 0.54603485, 0.00964888,\n",
       "        0.74899176, 0.23090707, 0.09791562],\n",
       "       [0.76113733, 0.85467239, 0.38212433, 0.33735198, 0.68970832,\n",
       "        0.30985305, 0.63137968, 0.04195607],\n",
       "       [0.9849332 , 0.69950626, 0.9988855 , 0.18014846, 0.58014315,\n",
       "        0.23108719, 0.49082694, 0.31368272],\n",
       "       [0.11207131, 0.43773566, 0.59659878, 0.59277563, 0.22698177,\n",
       "        0.41010452, 0.92123758, 0.67475276],\n",
       "       [0.79188751, 0.57619134, 0.69452836, 0.28342378, 0.13675546,\n",
       "        0.27916186, 0.84276726, 0.62532792],\n",
       "       [0.1435503 , 0.93741452, 0.23232482, 0.00904349, 0.41457893,\n",
       "        0.40932517, 0.55377852, 0.2058408 ],\n",
       "       [0.76991655, 0.45875909, 0.55900044, 0.69460444, 0.50319902,\n",
       "        0.72834638, 0.78425353, 0.66313109],\n",
       "       [0.05644741, 0.06595555, 0.02292868, 0.03878647, 0.40393544,\n",
       "        0.80105533, 0.48830701, 0.89308498],\n",
       "       [0.86243745, 0.48273382, 0.2818694 , 0.54410223, 0.88749026,\n",
       "        0.38265469, 0.60190199, 0.47646169],\n",
       "       [0.3515119 , 0.59006494, 0.9094363 , 0.67840835, 0.21282566,\n",
       "        0.08846038, 0.410153  , 0.19572429],\n",
       "       [0.73590364, 0.03461189, 0.72803027, 0.14742652, 0.29574314,\n",
       "        0.44511731, 0.97517969, 0.37433978],\n",
       "       [0.68029397, 0.25510465, 0.86218799, 0.13439582, 0.3263292 ,\n",
       "        0.28790687, 0.43501048, 0.36420013],\n",
       "       [0.04432925, 0.01358149, 0.25819824, 0.57764416, 0.05127992,\n",
       "        0.15856307, 0.59103012, 0.07795293],\n",
       "       [0.77834548, 0.75114565, 0.31414221, 0.90298577, 0.33538166,\n",
       "        0.38632267, 0.74897249, 0.9887551 ],\n",
       "       [0.89888711, 0.5236417 , 0.87678325, 0.21869645, 0.90026089,\n",
       "        0.28276624, 0.91107791, 0.47239822],\n",
       "       [0.14512029, 0.11932754, 0.42088822, 0.38760861, 0.15542283,\n",
       "        0.87517163, 0.51055967, 0.72861058],\n",
       "       [0.33895442, 0.56693202, 0.3767511 , 0.09891573, 0.65945169,\n",
       "        0.24554809, 0.76248278, 0.73215347],\n",
       "       [0.17615002, 0.29396143, 0.97567997, 0.79393631, 0.92340076,\n",
       "        0.03084229, 0.80325452, 0.59589758],\n",
       "       [0.02894663, 0.02827906, 0.48137155, 0.6131746 , 0.67266045,\n",
       "        0.02211341, 0.6014833 , 0.52488505],\n",
       "       [0.19263987, 0.63067728, 0.41679584, 0.49052929, 0.79608602,\n",
       "        0.65456706, 0.27624119, 0.29551759],\n",
       "       [0.94318502, 0.21885062, 0.72118408, 0.42459707, 0.986902  ,\n",
       "        0.53518298, 0.71474318, 0.96009372],\n",
       "       [0.5327214 , 0.8336926 , 0.071399  , 0.11681148, 0.73069311,\n",
       "        0.93737559, 0.86650798, 0.127902  ],\n",
       "       [0.44709584, 0.84395253, 0.72954612, 0.63915138, 0.40928714,\n",
       "        0.13264569, 0.03590888, 0.44683847],\n",
       "       [0.38222497, 0.55713584, 0.85310163, 0.33379569, 0.26572127,\n",
       "        0.48087292, 0.23764706, 0.76863196],\n",
       "       [0.53281953, 0.86230848, 0.53826712, 0.04944293, 0.71970119,\n",
       "        0.9067059 , 0.10823094, 0.52534791],\n",
       "       [0.39486519, 0.33180167, 0.7407543 , 0.69786172, 0.73740444,\n",
       "        0.78377681, 0.25449546, 0.87114551],\n",
       "       [0.98594539, 0.87305363, 0.07039262, 0.05358729, 0.73415296,\n",
       "        0.52025852, 0.81104004, 0.10336036],\n",
       "       [0.96457339, 0.97397979, 0.66375335, 0.66221599, 0.67312167,\n",
       "        0.90523762, 0.45887462, 0.5609175 ],\n",
       "       [0.47207071, 0.16820264, 0.08642757, 0.45265551, 0.48061922,\n",
       "        0.62243949, 0.92897446, 0.11253627],\n",
       "       [0.85600695, 0.6388937 , 0.32619202, 0.66850311, 0.24029837,\n",
       "        0.21029889, 0.16754636, 0.96358986],\n",
       "       [0.81003174, 0.63504604, 0.26954758, 0.86960534, 0.66192159,\n",
       "        0.25225873, 0.76567003, 0.89054867],\n",
       "       [0.79625252, 0.00703653, 0.35569738, 0.48756605, 0.74051962,\n",
       "        0.7066501 , 0.99291449, 0.38173437],\n",
       "       [0.48124533, 0.10246072, 0.21948594, 0.67732237, 0.24750919,\n",
       "        0.24434086, 0.16382453, 0.71596164],\n",
       "       [0.067737  , 0.079147  , 0.027514  , 0.046544  , 0.461641  ,\n",
       "        0.640844  , 0.390646  , 0.714468  ],\n",
       "       [0.081284  , 0.094976  , 0.033017  , 0.055853  , 0.369313  ,\n",
       "        0.659154  , 0.468775  , 0.571574  ],\n",
       "       [0.081284  , 0.094976  , 0.033017  , 0.055853  , 0.553969  ,\n",
       "        0.769013  , 0.334839  , 0.775708  ]])"
      ]
     },
     "execution_count": 104,
     "metadata": {},
     "output_type": "execute_result"
    }
   ],
   "source": [
    "X"
   ]
  },
  {
   "cell_type": "code",
   "execution_count": 105,
   "metadata": {},
   "outputs": [
    {
     "data": {
      "text/plain": [
       "array([7.3987211 , 7.00522736, 8.45948162, 8.28400781, 8.60611679,\n",
       "       8.54174792, 7.32743458, 7.29987205, 7.95787474, 5.59219339,\n",
       "       7.85454099, 6.79198578, 8.97655402, 7.3790829 , 9.598482  ,\n",
       "       8.15998319, 7.13162397, 6.76796253, 7.43374407, 9.01307515,\n",
       "       7.31089382, 5.84106731, 9.14163949, 8.81755844, 6.45194313,\n",
       "       8.83074505, 9.34427428, 6.88784639, 8.04221254, 7.69236805,\n",
       "       7.92375877, 8.42175924, 8.2780624 , 7.11345716, 6.40258841,\n",
       "       8.47293632, 7.97768459, 7.46087219, 7.43659353, 9.18300525,\n",
       "       9.79960224, 9.69655457, 9.81710696])"
      ]
     },
     "execution_count": 105,
     "metadata": {},
     "output_type": "execute_result"
    }
   ],
   "source": [
    "y\n"
   ]
  },
  {
   "cell_type": "code",
   "execution_count": 106,
   "metadata": {},
   "outputs": [],
   "source": [
    "if (dimension == 2):\n",
    "    x1 =X[:,0]\n",
    "    x2 =X[:,1] \n",
    "    plt.scatter(x1, x2, c=y)\n",
    "    for (i, j, text) in zip(x1, x2, y):\n",
    "        plt.annotate(format(text, \".2e\"),  # This is the text to use for the annotation\n",
    "                 (i, j),  # This is the point to label\n",
    "                 textcoords=\"offset points\",  # how to position the text\n",
    "                 xytext=(0,10),  # distance from text to points (x,y)\n",
    "                 ha='right')  # horizontal alignment can be left, right or center\n",
    "    plt.show()"
   ]
  },
  {
   "cell_type": "markdown",
   "metadata": {},
   "source": [
    "# Upper Confidence Bound"
   ]
  },
  {
   "cell_type": "markdown",
   "metadata": {},
   "source": [
    "A second alternative would be to use Bayesian Optimization and consider an Upper Confidence Bound acquisition function: "
   ]
  },
  {
   "cell_type": "code",
   "execution_count": 107,
   "metadata": {},
   "outputs": [
    {
     "data": {
      "text/html": [
       "<style>#sk-container-id-8 {color: black;}#sk-container-id-8 pre{padding: 0;}#sk-container-id-8 div.sk-toggleable {background-color: white;}#sk-container-id-8 label.sk-toggleable__label {cursor: pointer;display: block;width: 100%;margin-bottom: 0;padding: 0.3em;box-sizing: border-box;text-align: center;}#sk-container-id-8 label.sk-toggleable__label-arrow:before {content: \"▸\";float: left;margin-right: 0.25em;color: #696969;}#sk-container-id-8 label.sk-toggleable__label-arrow:hover:before {color: black;}#sk-container-id-8 div.sk-estimator:hover label.sk-toggleable__label-arrow:before {color: black;}#sk-container-id-8 div.sk-toggleable__content {max-height: 0;max-width: 0;overflow: hidden;text-align: left;background-color: #f0f8ff;}#sk-container-id-8 div.sk-toggleable__content pre {margin: 0.2em;color: black;border-radius: 0.25em;background-color: #f0f8ff;}#sk-container-id-8 input.sk-toggleable__control:checked~div.sk-toggleable__content {max-height: 200px;max-width: 100%;overflow: auto;}#sk-container-id-8 input.sk-toggleable__control:checked~label.sk-toggleable__label-arrow:before {content: \"▾\";}#sk-container-id-8 div.sk-estimator input.sk-toggleable__control:checked~label.sk-toggleable__label {background-color: #d4ebff;}#sk-container-id-8 div.sk-label input.sk-toggleable__control:checked~label.sk-toggleable__label {background-color: #d4ebff;}#sk-container-id-8 input.sk-hidden--visually {border: 0;clip: rect(1px 1px 1px 1px);clip: rect(1px, 1px, 1px, 1px);height: 1px;margin: -1px;overflow: hidden;padding: 0;position: absolute;width: 1px;}#sk-container-id-8 div.sk-estimator {font-family: monospace;background-color: #f0f8ff;border: 1px dotted black;border-radius: 0.25em;box-sizing: border-box;margin-bottom: 0.5em;}#sk-container-id-8 div.sk-estimator:hover {background-color: #d4ebff;}#sk-container-id-8 div.sk-parallel-item::after {content: \"\";width: 100%;border-bottom: 1px solid gray;flex-grow: 1;}#sk-container-id-8 div.sk-label:hover label.sk-toggleable__label {background-color: #d4ebff;}#sk-container-id-8 div.sk-serial::before {content: \"\";position: absolute;border-left: 1px solid gray;box-sizing: border-box;top: 0;bottom: 0;left: 50%;z-index: 0;}#sk-container-id-8 div.sk-serial {display: flex;flex-direction: column;align-items: center;background-color: white;padding-right: 0.2em;padding-left: 0.2em;position: relative;}#sk-container-id-8 div.sk-item {position: relative;z-index: 1;}#sk-container-id-8 div.sk-parallel {display: flex;align-items: stretch;justify-content: center;background-color: white;position: relative;}#sk-container-id-8 div.sk-item::before, #sk-container-id-8 div.sk-parallel-item::before {content: \"\";position: absolute;border-left: 1px solid gray;box-sizing: border-box;top: 0;bottom: 0;left: 50%;z-index: -1;}#sk-container-id-8 div.sk-parallel-item {display: flex;flex-direction: column;z-index: 1;position: relative;background-color: white;}#sk-container-id-8 div.sk-parallel-item:first-child::after {align-self: flex-end;width: 50%;}#sk-container-id-8 div.sk-parallel-item:last-child::after {align-self: flex-start;width: 50%;}#sk-container-id-8 div.sk-parallel-item:only-child::after {width: 0;}#sk-container-id-8 div.sk-dashed-wrapped {border: 1px dashed gray;margin: 0 0.4em 0.5em 0.4em;box-sizing: border-box;padding-bottom: 0.4em;background-color: white;}#sk-container-id-8 div.sk-label label {font-family: monospace;font-weight: bold;display: inline-block;line-height: 1.2em;}#sk-container-id-8 div.sk-label-container {text-align: center;}#sk-container-id-8 div.sk-container {/* jupyter's `normalize.less` sets `[hidden] { display: none; }` but bootstrap.min.css set `[hidden] { display: none !important; }` so we also need the `!important` here to be able to override the default hidden behavior on the sphinx rendered scikit-learn.org. See: https://github.com/scikit-learn/scikit-learn/issues/21755 */display: inline-block !important;position: relative;}#sk-container-id-8 div.sk-text-repr-fallback {display: none;}</style><div id=\"sk-container-id-8\" class=\"sk-top-container\"><div class=\"sk-text-repr-fallback\"><pre>GaussianProcessRegressor()</pre><b>In a Jupyter environment, please rerun this cell to show the HTML representation or trust the notebook. <br />On GitHub, the HTML representation is unable to render, please try loading this page with nbviewer.org.</b></div><div class=\"sk-container\" hidden><div class=\"sk-item\"><div class=\"sk-estimator sk-toggleable\"><input class=\"sk-toggleable__control sk-hidden--visually\" id=\"sk-estimator-id-8\" type=\"checkbox\" checked><label for=\"sk-estimator-id-8\" class=\"sk-toggleable__label sk-toggleable__label-arrow\">GaussianProcessRegressor</label><div class=\"sk-toggleable__content\"><pre>GaussianProcessRegressor()</pre></div></div></div></div></div>"
      ],
      "text/plain": [
       "GaussianProcessRegressor()"
      ]
     },
     "execution_count": 107,
     "metadata": {},
     "output_type": "execute_result"
    }
   ],
   "source": [
    "# Add here hyper-parameters\n",
    "gpr = GaussianProcessRegressor()\n",
    "gpr.fit(X, y)\n",
    "\n"
   ]
  },
  {
   "cell_type": "code",
   "execution_count": 108,
   "metadata": {},
   "outputs": [
    {
     "name": "stdout",
     "output_type": "stream",
     "text": [
      "maximum X= [0.081284 0.094976 0.033017 0.055853 0.553969 0.769013 0.334839 0.775708] , maximum y= 9.8171069550181\n",
      "data-points= (8, 8)\n",
      "data-points[ 1 ]= [0.0650272 0.069672  0.0743168 0.0789616 0.0836064] ... 0.0975408\n",
      "data-points[ 2 ]= [0.0759808 0.081408  0.0868352 0.0922624 0.0976896] ... 0.11397120000000001\n",
      "data-points[ 3 ]= [0.0264136  0.02830029 0.03018697 0.03207366 0.03396034] ... 0.0396204\n",
      "data-points[ 4 ]= [0.0446824 0.047874  0.0510656 0.0542572 0.0574488] ... 0.0670236\n",
      "data-points[ 5 ]= [0.4431752  0.47483057 0.50648594 0.53814131 0.56979669] ... 0.6647628000000001\n",
      "data-points[ 6 ]= [0.6152104 0.659154  0.7030976 0.7470412 0.7909848] ... 0.9228156\n",
      "data-points[ 7 ]= [0.2678712  0.28700486 0.30613851 0.32527217 0.34440583] ... 0.4018068\n",
      "data-points[ 8 ]= [0.6205664  0.66489257 0.70921874 0.75354491 0.79787109] ... 0.9308495999999999\n"
     ]
    }
   ],
   "source": [
    "def find_maxiumum(X, y):\n",
    "    maximum_of_X = []\n",
    "    maximum_so_far = -1e99\n",
    "    for index in range(len(y)):\n",
    "        if (y[index] > maximum_so_far):\n",
    "            maximum_so_far = y[index]\n",
    "            maximum_of_X = []\n",
    "            for i in range(dimension):\n",
    "                maximum_of_X.append(X[index, i])\n",
    "    return np.array(maximum_of_X), maximum_so_far\n",
    "    \n",
    "#X_sample =np.array([[1,10], [2,20], [3,30], [4, 40]])\n",
    "#Xmax, ymax = find_maxiumum(X_sample, [3,2,5,1])\n",
    "Xmax, ymax = find_maxiumum(X, y)\n",
    "XmaxLower = Xmax - (Xmax * 0.2)\n",
    "XmaxUpper = Xmax + (Xmax * 0.2)\n",
    "print(\"maximum X=\", Xmax, \", maximum y=\", ymax)\n",
    "\n",
    "sizes = [ [2, 100],\n",
    "          [3,  80],\n",
    "          [4,  60],\n",
    "          [5,  30],\n",
    "          [6,  15],\n",
    "          [7,  10],\n",
    "          [8,  8]]\n",
    "\n",
    "#Generate each dimension \n",
    "size = sizes[dimension - 2][1]\n",
    "\n",
    "data = []\n",
    "for item in range(dimension):\n",
    "    data.append(np.linspace(max(XmaxLower[item], 0 + 1e-10), min(XmaxUpper[item], 1 - 1e-10), size))\n",
    "\n",
    "x_grid_points = np.array(data)\n",
    "\n",
    "print(\"data-points=\", x_grid_points.shape)\n",
    "for dim in range(dimension):\n",
    "    print(\"data-points[\", dim + 1, \"]=\", x_grid_points[dim][:5], \"...\", x_grid_points[dim][-1] )\n",
    "\n"
   ]
  },
  {
   "cell_type": "code",
   "execution_count": 109,
   "metadata": {},
   "outputs": [
    {
     "name": "stdout",
     "output_type": "stream",
     "text": [
      "X_grid= (16777216, 8)  =  [[0.0650272  0.0759808  0.0264136  0.0446824  0.4431752  0.6152104\n",
      "  0.2678712  0.6205664 ]\n",
      " [0.0650272  0.0759808  0.0264136  0.0446824  0.4431752  0.6152104\n",
      "  0.2678712  0.66489257]\n",
      " [0.0650272  0.0759808  0.0264136  0.0446824  0.4431752  0.6152104\n",
      "  0.2678712  0.70921874]\n",
      " [0.0650272  0.0759808  0.0264136  0.0446824  0.4431752  0.6152104\n",
      "  0.2678712  0.75354491]\n",
      " [0.0650272  0.0759808  0.0264136  0.0446824  0.4431752  0.6152104\n",
      "  0.2678712  0.79787109]] ... [0.0975408 0.1139712 0.0396204 0.0670236 0.6647628 0.9228156 0.4018068\n",
      " 0.9308496]\n"
     ]
    }
   ],
   "source": [
    "X_grid = np.fromiter(it.chain(*it.product(*x_grid_points)), dtype=float).reshape(-1,dimension)\n",
    "print(\"X_grid=\", X_grid.shape, \" = \", X_grid[0:5,:], \"...\", X_grid[-1,:])\n"
   ]
  },
  {
   "cell_type": "code",
   "execution_count": 110,
   "metadata": {},
   "outputs": [],
   "source": [
    "#X_grid = np.array(X_grid)\n",
    "mean, std = gpr.predict(X_grid, return_std = True)\n",
    "ucb = mean + 1.96 * std"
   ]
  },
  {
   "cell_type": "code",
   "execution_count": 111,
   "metadata": {},
   "outputs": [
    {
     "name": "stdout",
     "output_type": "stream",
     "text": [
      "UCB= (16777216,) , value= [9.78431144 9.80985757 9.83091556 9.84690268 9.85706785]\n",
      "mean= (16777216,) , value= [9.66910767 9.69969363 9.72048085 9.73117844 9.73150799]\n"
     ]
    }
   ],
   "source": [
    "print(\"UCB=\", ucb.shape, \", value=\", ucb[:5])\n",
    "print(\"mean=\", mean.shape, \", value=\", mean[:5])\n",
    "#print(\"mean + std(1.96)=\", mean.shape, \", value=\", (mean + std * 1.96)[:5])\n"
   ]
  },
  {
   "cell_type": "code",
   "execution_count": 112,
   "metadata": {},
   "outputs": [
    {
     "name": "stdout",
     "output_type": "stream",
     "text": [
      "[0.0975408  0.1139712  0.0396204  0.0670236  0.4431752  0.659154\n",
      " 0.30613851 0.84219726]\n",
      "[0.0975408, 0.11397120000000001, 0.0396204, 0.0670236, 0.44317520000000005, 0.6591539999999999, 0.30613851428571426, 0.8421972571428571]\n"
     ]
    }
   ],
   "source": [
    "idx_max = np.argmax(ucb)\n",
    "next_query = X_grid[idx_max]\n",
    "print(next_query)\n",
    "best_numbers = []\n",
    "for item in next_query:\n",
    "    best_numbers.append(min(max(item, 0.000001), 0.999999))\n",
    "print(best_numbers)\n"
   ]
  },
  {
   "cell_type": "markdown",
   "metadata": {},
   "source": [
    "Doing this every week, we expect to be able to find the first of the two modes! This should would be enough to provide a good solution to the problem. To really verify if we found the maximum, we would need to find a second mode, however, we may be unlucky and simply never find it. This is an important part of Machine Learning: in theory we might want optimal, perfect solutions, but in practice most of the advancements can be done with simple solutions and careful consideration of the data available to us."
   ]
  },
  {
   "cell_type": "code",
   "execution_count": 113,
   "metadata": {},
   "outputs": [
    {
     "data": {
      "text/plain": [
       "'[0.097541-0.113971-0.039620-0.067024-0.443175-0.659154-0.306139-0.842197]'"
      ]
     },
     "execution_count": 113,
     "metadata": {},
     "output_type": "execute_result"
    }
   ],
   "source": [
    "np.array2string(np.array(best_numbers), precision=6, separator='-', floatmode='fixed', formatter={'float': '{:0.6f}'.format})"
   ]
  }
 ],
 "metadata": {
  "interpreter": {
   "hash": "d37abda7630e259e5026a5079657683a09f6e3d11473720762ebe7250c494840"
  },
  "kernelspec": {
   "display_name": "Python 3 (ipykernel)",
   "language": "python",
   "name": "python3"
  },
  "language_info": {
   "codemirror_mode": {
    "name": "ipython",
    "version": 3
   },
   "file_extension": ".py",
   "mimetype": "text/x-python",
   "name": "python",
   "nbconvert_exporter": "python",
   "pygments_lexer": "ipython3",
   "version": "3.11.5"
  }
 },
 "nbformat": 4,
 "nbformat_minor": 2
}
