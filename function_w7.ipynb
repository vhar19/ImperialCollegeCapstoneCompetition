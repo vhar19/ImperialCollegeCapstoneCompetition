{
 "cells": [
  {
   "cell_type": "code",
   "execution_count": 128,
   "metadata": {},
   "outputs": [],
   "source": [
    "import pandas as pd\n",
    "import numpy as np\n",
    "import itertools as it \n",
    "import matplotlib.pyplot as plt\n",
    "from sklearn.gaussian_process import GaussianProcessRegressor\n",
    "from ast import literal_eval"
   ]
  },
  {
   "cell_type": "markdown",
   "metadata": {},
   "source": [
    "# Guide and Ideas for Capstone Project"
   ]
  },
  {
   "cell_type": "markdown",
   "metadata": {},
   "source": [
    "We begin this guide by downloading the data:"
   ]
  },
  {
   "cell_type": "code",
   "execution_count": 129,
   "metadata": {},
   "outputs": [],
   "source": [
    "#PARAMETERS \n",
    "# This section defines the variables to run the rest of the document \n",
    "file = 1  # Identifies the function number to execute (1,2,3...8) \n",
    "resultsFile = \"data/results07.csv\"   # The latest results file provided by Carlton on a weekly basis "
   ]
  },
  {
   "cell_type": "code",
   "execution_count": 142,
   "metadata": {},
   "outputs": [
    {
     "name": "stdout",
     "output_type": "stream",
     "text": [
      "Input= 0    [0.877228 0.8796  ]\n",
      "1    [0.877228 0.758174]\n",
      "2    [0.785666 0.5864  ]\n",
      "3    [0.800434 0.811483]\n",
      "4    [0.824063 0.666364]\n",
      "5    [0.700011 0.811483]\n",
      "6    [0.762037 0.77002 ]\n",
      "Name: f1, dtype: object\n",
      "Output= 0    2.380231e-87\n",
      "1   -1.758338e-55\n",
      "2   -9.346589e-20\n",
      "3    1.381414e-44\n",
      "4    1.055608e-30\n",
      "5   -1.535327e-27\n",
      "6    4.857872e-27\n",
      "Name: f1_output, dtype: float64\n"
     ]
    },
    {
     "data": {
      "text/html": [
       "<div>\n",
       "<style scoped>\n",
       "    .dataframe tbody tr th:only-of-type {\n",
       "        vertical-align: middle;\n",
       "    }\n",
       "\n",
       "    .dataframe tbody tr th {\n",
       "        vertical-align: top;\n",
       "    }\n",
       "\n",
       "    .dataframe thead th {\n",
       "        text-align: right;\n",
       "    }\n",
       "</style>\n",
       "<table border=\"1\" class=\"dataframe\">\n",
       "  <thead>\n",
       "    <tr style=\"text-align: right;\">\n",
       "      <th></th>\n",
       "      <th>Unnamed: 0</th>\n",
       "      <th>timestamp</th>\n",
       "      <th>student_id</th>\n",
       "      <th>f1</th>\n",
       "      <th>f2</th>\n",
       "      <th>f3</th>\n",
       "      <th>f4</th>\n",
       "      <th>f5</th>\n",
       "      <th>f6</th>\n",
       "      <th>f7</th>\n",
       "      <th>f8</th>\n",
       "      <th>f1_output</th>\n",
       "      <th>f2_output</th>\n",
       "      <th>f3_output</th>\n",
       "      <th>f4_output</th>\n",
       "      <th>f5_output</th>\n",
       "      <th>f6_output</th>\n",
       "      <th>f7_output</th>\n",
       "      <th>f8_output</th>\n",
       "    </tr>\n",
       "  </thead>\n",
       "  <tbody>\n",
       "    <tr>\n",
       "      <th>0</th>\n",
       "      <td>24</td>\n",
       "      <td>2024-05-05 12:53:51</td>\n",
       "      <td>534</td>\n",
       "      <td>[0.877228 0.8796  ]</td>\n",
       "      <td>[0.562109 0.999999]</td>\n",
       "      <td>[0.463899 0.489275 0.408212]</td>\n",
       "      <td>[0.462212 0.386621 0.366643 0.298809]</td>\n",
       "      <td>[0.269027 0.999999 0.999999 0.999999]</td>\n",
       "      <td>[0.582549 0.123754 0.586041 0.832796 0.045121]</td>\n",
       "      <td>[0.046316 0.393338 0.197938 0.174495 0.336343 ...</td>\n",
       "      <td>[0.067737 0.079147 0.027514 0.046544 0.461641 ...</td>\n",
       "      <td>2.380231e-87</td>\n",
       "      <td>-0.161371</td>\n",
       "      <td>-0.024729</td>\n",
       "      <td>-1.917274</td>\n",
       "      <td>4462.544669</td>\n",
       "      <td>-0.587731</td>\n",
       "      <td>1.286160</td>\n",
       "      <td>9.799602</td>\n",
       "    </tr>\n",
       "    <tr>\n",
       "      <th>1</th>\n",
       "      <td>45</td>\n",
       "      <td>2024-05-07 07:25:14</td>\n",
       "      <td>534</td>\n",
       "      <td>[0.877228 0.758174]</td>\n",
       "      <td>[0.843164 0.999999]</td>\n",
       "      <td>[0.509702 0.39142  0.489854]</td>\n",
       "      <td>[0.426175 0.38531  0.370372 0.358571]</td>\n",
       "      <td>[0.322832 0.999999 0.999999 0.999999]</td>\n",
       "      <td>[0.466039 0.148505 0.468833 0.666237 0.036097]</td>\n",
       "      <td>[0.046316 0.393338 0.197938 0.174495 0.360367 ...</td>\n",
       "      <td>[0.081284 0.094976 0.033017 0.055853 0.369313 ...</td>\n",
       "      <td>-1.758338e-55</td>\n",
       "      <td>0.092720</td>\n",
       "      <td>-0.007078</td>\n",
       "      <td>0.563498</td>\n",
       "      <td>4484.415611</td>\n",
       "      <td>-0.568421</td>\n",
       "      <td>1.708912</td>\n",
       "      <td>9.696555</td>\n",
       "    </tr>\n",
       "    <tr>\n",
       "      <th>2</th>\n",
       "      <td>82</td>\n",
       "      <td>2024-05-13 06:14:44</td>\n",
       "      <td>534</td>\n",
       "      <td>[0.785666 0.5864  ]</td>\n",
       "      <td>[0.769352 0.892841]</td>\n",
       "      <td>[0.371119 0.39142  0.489854]</td>\n",
       "      <td>[0.34094  0.363106 0.444446 0.430285]</td>\n",
       "      <td>[0.387398 0.999999 0.999999 0.999999]</td>\n",
       "      <td>[0.466039 0.148505 0.703249 0.999355 0.036097]</td>\n",
       "      <td>[0.037053 0.472006 0.15835  0.139596 0.319182 ...</td>\n",
       "      <td>[0.081284 0.094976 0.033017 0.055853 0.553969 ...</td>\n",
       "      <td>-9.346589e-20</td>\n",
       "      <td>0.213305</td>\n",
       "      <td>-0.007078</td>\n",
       "      <td>0.180900</td>\n",
       "      <td>4528.747422</td>\n",
       "      <td>-0.590066</td>\n",
       "      <td>1.033901</td>\n",
       "      <td>9.817107</td>\n",
       "    </tr>\n",
       "    <tr>\n",
       "      <th>3</th>\n",
       "      <td>206</td>\n",
       "      <td>2024-06-10 07:09:12</td>\n",
       "      <td>534</td>\n",
       "      <td>[0.800434 0.811483]</td>\n",
       "      <td>[0.687022 0.999999]</td>\n",
       "      <td>[0.422794 0.313136 0.498535]</td>\n",
       "      <td>[0.34094  0.431025 0.296298 0.430285]</td>\n",
       "      <td>[0.464878 0.999999 0.999999 0.999999]</td>\n",
       "      <td>[0.372831 0.118804 0.562599 0.999999 0.043316]</td>\n",
       "      <td>[0.037053 0.31467  0.237526 0.139596 0.43244  ...</td>\n",
       "      <td>[0.097541 0.113971 0.03962  0.067024 0.443175 ...</td>\n",
       "      <td>1.381414e-44</td>\n",
       "      <td>0.661258</td>\n",
       "      <td>-0.019975</td>\n",
       "      <td>-0.728106</td>\n",
       "      <td>4619.357394</td>\n",
       "      <td>-0.698601</td>\n",
       "      <td>1.401136</td>\n",
       "      <td>9.849910</td>\n",
       "    </tr>\n",
       "    <tr>\n",
       "      <th>4</th>\n",
       "      <td>265</td>\n",
       "      <td>2024-06-20 05:37:21</td>\n",
       "      <td>534</td>\n",
       "      <td>[0.824063 0.666364]</td>\n",
       "      <td>[0.672828 0.952955]</td>\n",
       "      <td>[0.556679 0.473172 0.489854]</td>\n",
       "      <td>[0.485406 0.308248 0.444446 0.430285]</td>\n",
       "      <td>[0.557854 0.999999 0.999999 0.999999]</td>\n",
       "      <td>[0.494966 0.118804 0.843899 0.806398 0.043316]</td>\n",
       "      <td>[0.037053 0.31467  0.15835  0.209394 0.288294 ...</td>\n",
       "      <td>[0.117049 0.136765 0.047544 0.080429 0.53181  ...</td>\n",
       "      <td>1.055608e-30</td>\n",
       "      <td>0.466054</td>\n",
       "      <td>-0.023076</td>\n",
       "      <td>-1.723890</td>\n",
       "      <td>4806.634380</td>\n",
       "      <td>-0.659264</td>\n",
       "      <td>2.145971</td>\n",
       "      <td>9.859542</td>\n",
       "    </tr>\n",
       "    <tr>\n",
       "      <th>5</th>\n",
       "      <td>307</td>\n",
       "      <td>2024-06-25 06:16:12</td>\n",
       "      <td>534</td>\n",
       "      <td>[0.700011 0.811483]</td>\n",
       "      <td>[0.740962 0.999999]</td>\n",
       "      <td>[0.668015 0.567806 0.587825]</td>\n",
       "      <td>[0.390058 0.462372 0.444446 0.352494]</td>\n",
       "      <td>[0.669425 0.999999 0.999999 0.999999]</td>\n",
       "      <td>[0.634778 0.099003 0.703249 0.999355 0.054145]</td>\n",
       "      <td>[0.029642 0.251736 0.12668  0.251273 0.230635 ...</td>\n",
       "      <td>[0.140459 0.109412 0.057053 0.096515 0.425448 ...</td>\n",
       "      <td>-1.535327e-27</td>\n",
       "      <td>0.504703</td>\n",
       "      <td>-0.043307</td>\n",
       "      <td>-0.576021</td>\n",
       "      <td>5200.648778</td>\n",
       "      <td>-0.740765</td>\n",
       "      <td>2.110076</td>\n",
       "      <td>9.833724</td>\n",
       "    </tr>\n",
       "    <tr>\n",
       "      <th>6</th>\n",
       "      <td>325</td>\n",
       "      <td>2024-06-28 04:06:03</td>\n",
       "      <td>534</td>\n",
       "      <td>[0.762037 0.77002 ]</td>\n",
       "      <td>[0.685634 0.999999]</td>\n",
       "      <td>[0.611642 0.358719 0.471252]</td>\n",
       "      <td>[0.381391 0.365718 0.366606 0.430285]</td>\n",
       "      <td>[0.80331  0.999999 0.999999 0.999999]</td>\n",
       "      <td>[0.51425  0.148505 0.614333 0.815566 0.054145]</td>\n",
       "      <td>[0.029642 0.251736 0.12668  0.167515 0.288294 ...</td>\n",
       "      <td>[0.093639 0.164118 0.057053 0.096515 0.486226 ...</td>\n",
       "      <td>4.857872e-27</td>\n",
       "      <td>0.546620</td>\n",
       "      <td>-0.013162</td>\n",
       "      <td>0.527600</td>\n",
       "      <td>6055.632249</td>\n",
       "      <td>-0.435469</td>\n",
       "      <td>2.025039</td>\n",
       "      <td>9.865061</td>\n",
       "    </tr>\n",
       "  </tbody>\n",
       "</table>\n",
       "</div>"
      ],
      "text/plain": [
       "   Unnamed: 0            timestamp  student_id                   f1  \\\n",
       "0          24  2024-05-05 12:53:51         534  [0.877228 0.8796  ]   \n",
       "1          45  2024-05-07 07:25:14         534  [0.877228 0.758174]   \n",
       "2          82  2024-05-13 06:14:44         534  [0.785666 0.5864  ]   \n",
       "3         206  2024-06-10 07:09:12         534  [0.800434 0.811483]   \n",
       "4         265  2024-06-20 05:37:21         534  [0.824063 0.666364]   \n",
       "5         307  2024-06-25 06:16:12         534  [0.700011 0.811483]   \n",
       "6         325  2024-06-28 04:06:03         534  [0.762037 0.77002 ]   \n",
       "\n",
       "                    f2                            f3  \\\n",
       "0  [0.562109 0.999999]  [0.463899 0.489275 0.408212]   \n",
       "1  [0.843164 0.999999]  [0.509702 0.39142  0.489854]   \n",
       "2  [0.769352 0.892841]  [0.371119 0.39142  0.489854]   \n",
       "3  [0.687022 0.999999]  [0.422794 0.313136 0.498535]   \n",
       "4  [0.672828 0.952955]  [0.556679 0.473172 0.489854]   \n",
       "5  [0.740962 0.999999]  [0.668015 0.567806 0.587825]   \n",
       "6  [0.685634 0.999999]  [0.611642 0.358719 0.471252]   \n",
       "\n",
       "                                      f4  \\\n",
       "0  [0.462212 0.386621 0.366643 0.298809]   \n",
       "1  [0.426175 0.38531  0.370372 0.358571]   \n",
       "2  [0.34094  0.363106 0.444446 0.430285]   \n",
       "3  [0.34094  0.431025 0.296298 0.430285]   \n",
       "4  [0.485406 0.308248 0.444446 0.430285]   \n",
       "5  [0.390058 0.462372 0.444446 0.352494]   \n",
       "6  [0.381391 0.365718 0.366606 0.430285]   \n",
       "\n",
       "                                      f5  \\\n",
       "0  [0.269027 0.999999 0.999999 0.999999]   \n",
       "1  [0.322832 0.999999 0.999999 0.999999]   \n",
       "2  [0.387398 0.999999 0.999999 0.999999]   \n",
       "3  [0.464878 0.999999 0.999999 0.999999]   \n",
       "4  [0.557854 0.999999 0.999999 0.999999]   \n",
       "5  [0.669425 0.999999 0.999999 0.999999]   \n",
       "6  [0.80331  0.999999 0.999999 0.999999]   \n",
       "\n",
       "                                               f6  \\\n",
       "0  [0.582549 0.123754 0.586041 0.832796 0.045121]   \n",
       "1  [0.466039 0.148505 0.468833 0.666237 0.036097]   \n",
       "2  [0.466039 0.148505 0.703249 0.999355 0.036097]   \n",
       "3  [0.372831 0.118804 0.562599 0.999999 0.043316]   \n",
       "4  [0.494966 0.118804 0.843899 0.806398 0.043316]   \n",
       "5  [0.634778 0.099003 0.703249 0.999355 0.054145]   \n",
       "6  [0.51425  0.148505 0.614333 0.815566 0.054145]   \n",
       "\n",
       "                                                  f7  \\\n",
       "0  [0.046316 0.393338 0.197938 0.174495 0.336343 ...   \n",
       "1  [0.046316 0.393338 0.197938 0.174495 0.360367 ...   \n",
       "2  [0.037053 0.472006 0.15835  0.139596 0.319182 ...   \n",
       "3  [0.037053 0.31467  0.237526 0.139596 0.43244  ...   \n",
       "4  [0.037053 0.31467  0.15835  0.209394 0.288294 ...   \n",
       "5  [0.029642 0.251736 0.12668  0.251273 0.230635 ...   \n",
       "6  [0.029642 0.251736 0.12668  0.167515 0.288294 ...   \n",
       "\n",
       "                                                  f8     f1_output  f2_output  \\\n",
       "0  [0.067737 0.079147 0.027514 0.046544 0.461641 ...  2.380231e-87  -0.161371   \n",
       "1  [0.081284 0.094976 0.033017 0.055853 0.369313 ... -1.758338e-55   0.092720   \n",
       "2  [0.081284 0.094976 0.033017 0.055853 0.553969 ... -9.346589e-20   0.213305   \n",
       "3  [0.097541 0.113971 0.03962  0.067024 0.443175 ...  1.381414e-44   0.661258   \n",
       "4  [0.117049 0.136765 0.047544 0.080429 0.53181  ...  1.055608e-30   0.466054   \n",
       "5  [0.140459 0.109412 0.057053 0.096515 0.425448 ... -1.535327e-27   0.504703   \n",
       "6  [0.093639 0.164118 0.057053 0.096515 0.486226 ...  4.857872e-27   0.546620   \n",
       "\n",
       "   f3_output  f4_output    f5_output  f6_output  f7_output  f8_output  \n",
       "0  -0.024729  -1.917274  4462.544669  -0.587731   1.286160   9.799602  \n",
       "1  -0.007078   0.563498  4484.415611  -0.568421   1.708912   9.696555  \n",
       "2  -0.007078   0.180900  4528.747422  -0.590066   1.033901   9.817107  \n",
       "3  -0.019975  -0.728106  4619.357394  -0.698601   1.401136   9.849910  \n",
       "4  -0.023076  -1.723890  4806.634380  -0.659264   2.145971   9.859542  \n",
       "5  -0.043307  -0.576021  5200.648778  -0.740765   2.110076   9.833724  \n",
       "6  -0.013162   0.527600  6055.632249  -0.435469   2.025039   9.865061  "
      ]
     },
     "execution_count": 142,
     "metadata": {},
     "output_type": "execute_result"
    }
   ],
   "source": [
    "inputColumnName = \"f\" + str(file)\n",
    "outputColumnName = \"f\" + str(file) + \"_output\"\n",
    "df = pd.read_csv(resultsFile)\n",
    "input = df[inputColumnName]\n",
    "output = df[outputColumnName]\n",
    "print(\"Input=\", input)\n",
    "print(\"Output=\", output)\n",
    "df.head(25)\n"
   ]
  },
  {
   "cell_type": "code",
   "execution_count": 143,
   "metadata": {},
   "outputs": [
    {
     "name": "stdout",
     "output_type": "stream",
     "text": [
      "X(shape)= (17, 2) y(shape)= (17,)\n"
     ]
    }
   ],
   "source": [
    "# LOAD INITIAL DATA PROVIDED AT THE BEGINNING \n",
    "def load_data(dim):\n",
    "    X = np.load('data/initial_data/function_' + str(dim) +'/initial_inputs.npy')\n",
    "    y = np.load('data/initial_data/function_' + str(dim) +'/initial_outputs.npy')\n",
    "    return X,y\n",
    "\n",
    "# LOAD AND APPEND THE RESULTS PUBLISHED BY CARLTON \n",
    "X, y = load_data(file)\n",
    "dimension = np.shape(X)[1] \n",
    "\n",
    "for item in input:\n",
    "     item_with_comma = \"[\" + item.replace(\" 0.\",\", 0.\")  + \"]\"  \n",
    "     row = np.array(literal_eval(item_with_comma))\n",
    "     X = np.append(X, np.array(row), axis=0)\n",
    "\n",
    "for item in output:\n",
    "    y = np.append(y, float(item))\n",
    "\n",
    "print(\"X(shape)=\", X.shape, \"y(shape)=\", y.shape)\n"
   ]
  },
  {
   "cell_type": "code",
   "execution_count": 132,
   "metadata": {},
   "outputs": [
    {
     "data": {
      "text/plain": [
       "array([[0.31940389, 0.76295937],\n",
       "       [0.57432921, 0.8798981 ],\n",
       "       [0.73102363, 0.73299988],\n",
       "       [0.84035342, 0.26473161],\n",
       "       [0.65011406, 0.68152635],\n",
       "       [0.41043714, 0.1475543 ],\n",
       "       [0.31269116, 0.07872278],\n",
       "       [0.68341817, 0.86105746],\n",
       "       [0.08250725, 0.40348751],\n",
       "       [0.88388983, 0.58225397],\n",
       "       [0.877228  , 0.8796    ],\n",
       "       [0.877228  , 0.758174  ],\n",
       "       [0.785666  , 0.5864    ],\n",
       "       [0.800434  , 0.811483  ],\n",
       "       [0.824063  , 0.666364  ],\n",
       "       [0.700011  , 0.811483  ],\n",
       "       [0.762037  , 0.77002   ]])"
      ]
     },
     "execution_count": 132,
     "metadata": {},
     "output_type": "execute_result"
    }
   ],
   "source": [
    "X"
   ]
  },
  {
   "cell_type": "code",
   "execution_count": 133,
   "metadata": {},
   "outputs": [
    {
     "data": {
      "text/plain": [
       "array([ 1.32267704e-079,  1.03307824e-046,  7.71087511e-016,\n",
       "        3.34177101e-124, -3.60606264e-003, -2.15924904e-054,\n",
       "       -2.08909327e-091,  2.53500115e-040,  3.60677119e-081,\n",
       "        6.22985647e-048,  2.38023080e-087, -1.75833777e-055,\n",
       "       -9.34658880e-020,  1.38141414e-044,  1.05560753e-030,\n",
       "       -1.53532704e-027,  4.85787195e-027])"
      ]
     },
     "execution_count": 133,
     "metadata": {},
     "output_type": "execute_result"
    }
   ],
   "source": [
    "y\n"
   ]
  },
  {
   "cell_type": "code",
   "execution_count": 134,
   "metadata": {},
   "outputs": [
    {
     "data": {
      "image/png": "[encoded data removed]",
      "text/plain": [
       "<Figure size 640x480 with 1 Axes>"
      ]
     },
     "metadata": {},
     "output_type": "display_data"
    }
   ],
   "source": [
    "# The first 2 functions can be shown as X,Y coordinates and reveal what is going on. On higher dimensions it loses meaning so we don't plot it \n",
    "if (dimension == 1 or dimension == 2):\n",
    "    x1 =X[:,0]\n",
    "    x2 =X[:,1] \n",
    "    plt.scatter(x1, x2, c=y)\n",
    "    for (i, j, text) in zip(x1, x2, y):\n",
    "        plt.annotate(format(text, \".2e\"),  # This is the text to use for the annotation\n",
    "                 (i, j),  # This is the point to label\n",
    "                 textcoords=\"offset points\",  # how to position the text\n",
    "                 xytext=(0,10),  # distance from text to points (x,y)\n",
    "                 ha='right')  # horizontal alignment can be left, right or center\n",
    "    plt.show()"
   ]
  },
  {
   "cell_type": "markdown",
   "metadata": {},
   "source": [
    "# Upper Confidence Bound"
   ]
  },
  {
   "cell_type": "markdown",
   "metadata": {},
   "source": [
    "A second alternative would be to use Bayesian Optimization and consider an Upper Confidence Bound acquisition function: "
   ]
  },
  {
   "cell_type": "code",
   "execution_count": 135,
   "metadata": {},
   "outputs": [
    {
     "data": {
      "text/html": [
       "<style>#sk-container-id-10 {color: black;}#sk-container-id-10 pre{padding: 0;}#sk-container-id-10 div.sk-toggleable {background-color: white;}#sk-container-id-10 label.sk-toggleable__label {cursor: pointer;display: block;width: 100%;margin-bottom: 0;padding: 0.3em;box-sizing: border-box;text-align: center;}#sk-container-id-10 label.sk-toggleable__label-arrow:before {content: \"▸\";float: left;margin-right: 0.25em;color: #696969;}#sk-container-id-10 label.sk-toggleable__label-arrow:hover:before {color: black;}#sk-container-id-10 div.sk-estimator:hover label.sk-toggleable__label-arrow:before {color: black;}#sk-container-id-10 div.sk-toggleable__content {max-height: 0;max-width: 0;overflow: hidden;text-align: left;background-color: #f0f8ff;}#sk-container-id-10 div.sk-toggleable__content pre {margin: 0.2em;color: black;border-radius: 0.25em;background-color: #f0f8ff;}#sk-container-id-10 input.sk-toggleable__control:checked~div.sk-toggleable__content {max-height: 200px;max-width: 100%;overflow: auto;}#sk-container-id-10 input.sk-toggleable__control:checked~label.sk-toggleable__label-arrow:before {content: \"▾\";}#sk-container-id-10 div.sk-estimator input.sk-toggleable__control:checked~label.sk-toggleable__label {background-color: #d4ebff;}#sk-container-id-10 div.sk-label input.sk-toggleable__control:checked~label.sk-toggleable__label {background-color: #d4ebff;}#sk-container-id-10 input.sk-hidden--visually {border: 0;clip: rect(1px 1px 1px 1px);clip: rect(1px, 1px, 1px, 1px);height: 1px;margin: -1px;overflow: hidden;padding: 0;position: absolute;width: 1px;}#sk-container-id-10 div.sk-estimator {font-family: monospace;background-color: #f0f8ff;border: 1px dotted black;border-radius: 0.25em;box-sizing: border-box;margin-bottom: 0.5em;}#sk-container-id-10 div.sk-estimator:hover {background-color: #d4ebff;}#sk-container-id-10 div.sk-parallel-item::after {content: \"\";width: 100%;border-bottom: 1px solid gray;flex-grow: 1;}#sk-container-id-10 div.sk-label:hover label.sk-toggleable__label {background-color: #d4ebff;}#sk-container-id-10 div.sk-serial::before {content: \"\";position: absolute;border-left: 1px solid gray;box-sizing: border-box;top: 0;bottom: 0;left: 50%;z-index: 0;}#sk-container-id-10 div.sk-serial {display: flex;flex-direction: column;align-items: center;background-color: white;padding-right: 0.2em;padding-left: 0.2em;position: relative;}#sk-container-id-10 div.sk-item {position: relative;z-index: 1;}#sk-container-id-10 div.sk-parallel {display: flex;align-items: stretch;justify-content: center;background-color: white;position: relative;}#sk-container-id-10 div.sk-item::before, #sk-container-id-10 div.sk-parallel-item::before {content: \"\";position: absolute;border-left: 1px solid gray;box-sizing: border-box;top: 0;bottom: 0;left: 50%;z-index: -1;}#sk-container-id-10 div.sk-parallel-item {display: flex;flex-direction: column;z-index: 1;position: relative;background-color: white;}#sk-container-id-10 div.sk-parallel-item:first-child::after {align-self: flex-end;width: 50%;}#sk-container-id-10 div.sk-parallel-item:last-child::after {align-self: flex-start;width: 50%;}#sk-container-id-10 div.sk-parallel-item:only-child::after {width: 0;}#sk-container-id-10 div.sk-dashed-wrapped {border: 1px dashed gray;margin: 0 0.4em 0.5em 0.4em;box-sizing: border-box;padding-bottom: 0.4em;background-color: white;}#sk-container-id-10 div.sk-label label {font-family: monospace;font-weight: bold;display: inline-block;line-height: 1.2em;}#sk-container-id-10 div.sk-label-container {text-align: center;}#sk-container-id-10 div.sk-container {/* jupyter's `normalize.less` sets `[hidden] { display: none; }` but bootstrap.min.css set `[hidden] { display: none !important; }` so we also need the `!important` here to be able to override the default hidden behavior on the sphinx rendered scikit-learn.org. See: https://github.com/scikit-learn/scikit-learn/issues/21755 */display: inline-block !important;position: relative;}#sk-container-id-10 div.sk-text-repr-fallback {display: none;}</style><div id=\"sk-container-id-10\" class=\"sk-top-container\"><div class=\"sk-text-repr-fallback\"><pre>GaussianProcessRegressor()</pre><b>In a Jupyter environment, please rerun this cell to show the HTML representation or trust the notebook. <br />On GitHub, the HTML representation is unable to render, please try loading this page with nbviewer.org.</b></div><div class=\"sk-container\" hidden><div class=\"sk-item\"><div class=\"sk-estimator sk-toggleable\"><input class=\"sk-toggleable__control sk-hidden--visually\" id=\"sk-estimator-id-10\" type=\"checkbox\" checked><label for=\"sk-estimator-id-10\" class=\"sk-toggleable__label sk-toggleable__label-arrow\">GaussianProcessRegressor</label><div class=\"sk-toggleable__content\"><pre>GaussianProcessRegressor()</pre></div></div></div></div></div>"
      ],
      "text/plain": [
       "GaussianProcessRegressor()"
      ]
     },
     "execution_count": 135,
     "metadata": {},
     "output_type": "execute_result"
    }
   ],
   "source": [
    "# Add here hyper-parameters\n",
    "gpr = GaussianProcessRegressor()\n",
    "gpr.fit(X, y)\n",
    "\n"
   ]
  },
  {
   "cell_type": "code",
   "execution_count": 136,
   "metadata": {},
   "outputs": [
    {
     "name": "stdout",
     "output_type": "stream",
     "text": [
      "maximum X= [0.73102363 0.73299988] , maximum y= 7.710875114502849e-16\n",
      "data-points= (2, 100)\n",
      "data-points[ 1 ]= [0.5848189  0.58777254 0.59072617 0.5936798  0.59663343] ... 0.8772283571476303\n",
      "data-points[ 2 ]= [0.5863999  0.58936152 0.59232313 0.59528475 0.59824636] ... 0.8795998516982727\n"
     ]
    }
   ],
   "source": [
    "def find_maxiumum(X, y):\n",
    "    maximum_of_X = []\n",
    "    maximum_so_far = -1e99\n",
    "    for index in range(len(y)):\n",
    "        if (y[index] > maximum_so_far):\n",
    "            maximum_so_far = y[index]\n",
    "            maximum_of_X = []\n",
    "            for i in range(dimension):\n",
    "                maximum_of_X.append(X[index, i])\n",
    "    return np.array(maximum_of_X), maximum_so_far\n",
    "    \n",
    "Xmax, ymax = find_maxiumum(X, y)  #Returns the row with maximim y and all X values \n",
    "XmaxLower = Xmax - (Xmax * 0.2)\n",
    "XmaxUpper = Xmax + (Xmax * 0.2)\n",
    "print(\"maximum X=\", Xmax, \", maximum y=\", ymax)\n",
    "\n",
    "# Adjust sizes as we go up in dimensions to avoid waiting for hours on higher dimensions \n",
    "sizes = [ [2, 100],\n",
    "          [3,  80],\n",
    "          [4,  60],\n",
    "          [5,  30],\n",
    "          [6,  15],\n",
    "          [7,  10],\n",
    "          [8,  8]]\n",
    "\n",
    "size = sizes[dimension - 2][1]  #Find the corrects size for this dimension \n",
    "\n",
    "data = []\n",
    "for item in range(dimension):\n",
    "    data.append(np.linspace(max(XmaxLower[item], 0 + 1e-10), min(XmaxUpper[item], 1 - 1e-10), size))\n",
    "\n",
    "x_grid_points = np.array(data)\n",
    "\n",
    "print(\"data-points=\", x_grid_points.shape)\n",
    "for dim in range(dimension):\n",
    "    print(\"data-points[\", dim + 1, \"]=\", x_grid_points[dim][:5], \"...\", x_grid_points[dim][-1] )\n",
    "\n"
   ]
  },
  {
   "cell_type": "code",
   "execution_count": 137,
   "metadata": {},
   "outputs": [
    {
     "name": "stdout",
     "output_type": "stream",
     "text": [
      "X_grid= (10000, 2)  =  [[0.5848189  0.5863999 ]\n",
      " [0.5848189  0.58936152]\n",
      " [0.5848189  0.59232313]\n",
      " [0.5848189  0.59528475]\n",
      " [0.5848189  0.59824636]] ... [0.87722836 0.87959985]\n"
     ]
    }
   ],
   "source": [
    "X_grid = np.fromiter(it.chain(*it.product(*x_grid_points)), dtype=float).reshape(-1,dimension)\n",
    "print(\"X_grid=\", X_grid.shape, \" = \", X_grid[0:5,:], \"...\", X_grid[-1,:])\n"
   ]
  },
  {
   "cell_type": "code",
   "execution_count": 138,
   "metadata": {},
   "outputs": [],
   "source": [
    "#X_grid = np.array(X_grid)\n",
    "mean, std = gpr.predict(X_grid, return_std = True)\n",
    "ucb = mean + 1.96 * std"
   ]
  },
  {
   "cell_type": "code",
   "execution_count": 139,
   "metadata": {},
   "outputs": [
    {
     "name": "stdout",
     "output_type": "stream",
     "text": [
      "UCB= (10000,) , value= [-0.01157405 -0.01151194 -0.01144697 -0.01137916 -0.01130857]\n",
      "mean= (10000,) , value= [-0.01181231 -0.01174368 -0.01167231 -0.01159823 -0.0115215 ]\n"
     ]
    }
   ],
   "source": [
    "print(\"UCB=\", ucb.shape, \", value=\", ucb[:5])\n",
    "print(\"mean=\", mean.shape, \", value=\", mean[:5])\n",
    "#print(\"mean + std(1.96)=\", mean.shape, \", value=\", (mean + std * 1.96)[:5])\n"
   ]
  },
  {
   "cell_type": "code",
   "execution_count": 140,
   "metadata": {},
   "outputs": [
    {
     "name": "stdout",
     "output_type": "stream",
     "text": [
      "[0.75317586 0.78778977]\n",
      "[0.7531758621974604, 0.7877897661674765]\n"
     ]
    }
   ],
   "source": [
    "idx_max = np.argmax(ucb)\n",
    "next_query = X_grid[idx_max]\n",
    "print(next_query)\n",
    "best_numbers = []\n",
    "for item in next_query:\n",
    "    best_numbers.append(min(max(item, 0.000001), 0.999999))\n",
    "print(best_numbers)\n"
   ]
  },
  {
   "cell_type": "markdown",
   "metadata": {},
   "source": [
    "Doing this every week, we expect to be able to find the first of the two modes! This should would be enough to provide a good solution to the problem. To really verify if we found the maximum, we would need to find a second mode, however, we may be unlucky and simply never find it. This is an important part of Machine Learning: in theory we might want optimal, perfect solutions, but in practice most of the advancements can be done with simple solutions and careful consideration of the data available to us."
   ]
  },
  {
   "cell_type": "code",
   "execution_count": 141,
   "metadata": {},
   "outputs": [
    {
     "data": {
      "text/plain": [
       "'[0.753176-0.787790]'"
      ]
     },
     "execution_count": 141,
     "metadata": {},
     "output_type": "execute_result"
    }
   ],
   "source": [
    "np.array2string(np.array(best_numbers), precision=6, separator='-', floatmode='fixed', formatter={'float': '{:0.6f}'.format})"
   ]
  }
 ],
 "metadata": {
  "interpreter": {
   "hash": "d37abda7630e259e5026a5079657683a09f6e3d11473720762ebe7250c494840"
  },
  "kernelspec": {
   "display_name": "Python 3 (ipykernel)",
   "language": "python",
   "name": "python3"
  },
  "language_info": {
   "codemirror_mode": {
    "name": "ipython",
    "version": 3
   },
   "file_extension": ".py",
   "mimetype": "text/x-python",
   "name": "python",
   "nbconvert_exporter": "python",
   "pygments_lexer": "ipython3",
   "version": "3.11.5"
  }
 },
 "nbformat": 4,
 "nbformat_minor": 2
}
